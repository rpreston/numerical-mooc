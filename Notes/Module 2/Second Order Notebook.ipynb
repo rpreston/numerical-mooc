{
 "metadata": {
  "name": "",
  "signature": "sha256:4d5757fb67c1697790a3f46fa82f73ae4c646db494454edfcb23cc2e579f0dd5"
 },
 "nbformat": 3,
 "nbformat_minor": 0,
 "worksheets": [
  {
   "cells": [
    {
     "cell_type": "code",
     "collapsed": false,
     "input": [
      "# -*- coding: utf-8 -*-\n",
      "\"\"\"\n",
      "Created on Tue Sep 30 21:08:45 2014\n",
      "\n",
      "@author: Ryan\n",
      "\"\"\"\n",
      "\n",
      "import numpy\n",
      "import matplotlib.pyplot as plt\n",
      "import sympy\n",
      "from JSAnimation.IPython_display import display_animation\n",
      "from matplotlib import animation\n",
      "\n",
      "Vmax = 80. #km/hr\n",
      "L = 11. #km\n",
      "rhomax = 250. #cars/km\n",
      "nx = 51\n",
      "dt = 0.001 #hours\n",
      "\n",
      "dx = L/nx\n",
      "x = numpy.linspace(0,L,nx)\n",
      "rho0 = numpy.ones(nx)*10.\n",
      "rho0[10:20] = 50.\n",
      "nt = 1\n",
      "\n",
      "\n",
      "def carVelocity(rho):\n",
      "    return (Vmax*(1-rho/rhomax))\n",
      "\n",
      "def trafficFlux(rho,Velocity):\n",
      "    return (Velocity*rho)\n",
      "\n",
      "\n",
      "def evaluateRho(t):\n",
      "    #line.set_data(x,rho0)\n",
      "    for n in range(1,int(t/dt)):\n",
      "        rho = rho0.copy()\n",
      "        rho0[1:] = rho[1:]-(dt/dx)*Vmax*(1.-(rho[1:])*(2./rhomax))*(rho[1:]-rho[0:-1])\n",
      "        rho0[0] = 10\n",
      "    \n",
      "def plotGraph(t):\n",
      "    nt = int(t/dt)\n",
      "    print nt\n",
      "    fig = plt.figure(figsize=(8,5))\n",
      "    ax = plt.axes(xlim=(0,55),ylim=(0,55))\n",
      "    line = ax.plot([],[],color='#003366', ls='--', lw=3)[0]\n",
      "   \n",
      "    animation.FuncAnimation(fig,evaluateRho,frames= nt,interval=100)\n",
      "\n"
     ],
     "language": "python",
     "metadata": {},
     "outputs": [],
     "prompt_number": 72
    },
    {
     "cell_type": "code",
     "collapsed": false,
     "input": [
      "evaluateRho(1)"
     ],
     "language": "python",
     "metadata": {},
     "outputs": [],
     "prompt_number": 73
    },
    {
     "cell_type": "code",
     "collapsed": false,
     "input": [
      "print rho0"
     ],
     "language": "python",
     "metadata": {},
     "outputs": [
      {
       "output_type": "stream",
       "stream": "stdout",
       "text": [
        "[ 10.  10.  10.  10.  10.  10.  10.  10.  10.  10.  10.  10.  10.  10.  10.\n",
        "  10.  10.  10.  10.  10.  10.  10.  10.  10.  10.  10.  10.  10.  10.  10.\n",
        "  10.  10.  10.  10.  10.  10.  10.  10.  10.  10.  10.  10.  10.  10.  10.\n",
        "  10.  10.  10.  10.  10.  10.]\n"
       ]
      }
     ],
     "prompt_number": 74
    },
    {
     "cell_type": "code",
     "collapsed": false,
     "input": [],
     "language": "python",
     "metadata": {},
     "outputs": [],
     "prompt_number": 8
    },
    {
     "cell_type": "code",
     "collapsed": false,
     "input": [],
     "language": "python",
     "metadata": {},
     "outputs": []
    }
   ],
   "metadata": {}
  }
 ]
}